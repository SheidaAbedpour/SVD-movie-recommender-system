{
 "cells": [
  {
   "cell_type": "code",
   "execution_count": 1,
   "id": "8172f0ad-1141-4326-9c3b-6fb9f766569f",
   "metadata": {},
   "outputs": [
    {
     "name": "stderr",
     "output_type": "stream",
     "text": [
      "C:\\Users\\Sonat\\AppData\\Local\\Temp\\ipykernel_16380\\1662815981.py:2: DeprecationWarning: \n",
      "Pyarrow will become a required dependency of pandas in the next major release of pandas (pandas 3.0),\n",
      "(to allow more performant data types, such as the Arrow string type, and better interoperability with other libraries)\n",
      "but was not found to be installed on your system.\n",
      "If this would cause problems for you,\n",
      "please provide us feedback at https://github.com/pandas-dev/pandas/issues/54466\n",
      "        \n",
      "  import pandas as pd\n"
     ]
    }
   ],
   "source": [
    "import numpy as np\n",
    "import pandas as pd"
   ]
  },
  {
   "cell_type": "code",
   "execution_count": null,
   "id": "f172bd6d-899a-472f-a487-af875763088a",
   "metadata": {},
   "outputs": [],
   "source": [
    "def power_iteration(A, max_iter=100, tol=1e-6):\n",
    "    \"\"\"\n",
    "    Power Iteration method to find the dominant singular vector of matrix A.\n",
    "\n",
    "    Parameters:\n",
    "        A (numpy.ndarray): Input matrix.\n",
    "        max_iter (int): Maximum number of iterations (default: 100).\n",
    "        tol (float): Tolerance for convergence (default: 1e-6).\n",
    "\n",
    "    Returns:\n",
    "        eig_val (float): The greatest (in absolute value) eigenvalue of A.\n",
    "        v (numpy.ndarray): nonzero vector which is a corresponding eigenvector of eig_val.\n",
    "    \"\"\"\n",
    "    m, n = A.shape\n",
    "    v = np.random.rand(n, 1)\n",
    "\n",
    "    for _ in range(max_iter):\n",
    "        Av = np.dot(A, v)\n",
    "        norm_av = np.linalg.norm(Av)\n",
    "        v_new = Av / norm_av\n",
    "\n",
    "        # Check for convergence\n",
    "        if np.linalg.norm(v_new - v) < tol:\n",
    "            break\n",
    "\n",
    "        v = v_new\n",
    "\n",
    "    # Compute the corresponding singular value\n",
    "    eig_val = np.dot(np.dot(A, v), v) / np.dot(v, v)\n",
    "\n",
    "    return eig_val, v"
   ]
  },
  {
   "cell_type": "code",
   "execution_count": null,
   "id": "622b9d1a-b215-4081-813d-e952815a0e04",
   "metadata": {},
   "outputs": [],
   "source": []
  },
  {
   "cell_type": "code",
   "execution_count": null,
   "id": "faa87eac-cf3a-4efd-89f3-bdde4bd0d973",
   "metadata": {},
   "outputs": [],
   "source": []
  }
 ],
 "metadata": {
  "kernelspec": {
   "display_name": "Python 3 (ipykernel)",
   "language": "python",
   "name": "python3"
  },
  "language_info": {
   "codemirror_mode": {
    "name": "ipython",
    "version": 3
   },
   "file_extension": ".py",
   "mimetype": "text/x-python",
   "name": "python",
   "nbconvert_exporter": "python",
   "pygments_lexer": "ipython3",
   "version": "3.11.7"
  }
 },
 "nbformat": 4,
 "nbformat_minor": 5
}
